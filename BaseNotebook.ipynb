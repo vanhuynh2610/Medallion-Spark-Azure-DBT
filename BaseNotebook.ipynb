{
 "cells": [
  {
   "cell_type": "code",
   "execution_count": 0,
   "metadata": {
    "application/vnd.databricks.v1+cell": {
     "cellMetadata": {
      "byteLimit": 2048000,
      "rowLimit": 10000
     },
     "inputWidgets": {},
     "nuid": "fe2d3f51-d835-40d8-bbf1-83febbb4640e",
     "showTitle": false,
     "title": ""
    }
   },
   "outputs": [
    {
     "data": {
      "text/plain": [
       "True"
      ]
     },
     "execution_count": 15,
     "metadata": {},
     "output_type": "execute_result"
    }
   ],
   "source": [
    "# dbutils.fs.mount(\n",
    "#     source='wasbs://bronze@medalionsavan.blob.core.windows.net',\n",
    "#     mount_point='/mnt/bronze',\n",
    "#     extra_configs={\n",
    "#         'fs.azure.account.key.medalionsavan.blob.core.windows.net': dbutils.secrets.get(\n",
    "#             'databrickScope', \n",
    "#             'storageAccountKey'\n",
    "#         )\n",
    "#     }\n",
    "# )\n",
    "\n",
    "# dbutils.fs.mount(\n",
    "#     source='wasbs://silver@medalionsavan.blob.core.windows.net',\n",
    "#     mount_point='/mnt/silver',\n",
    "#     extra_configs={\n",
    "#         'fs.azure.account.key.medalionsavan.blob.core.windows.net': dbutils.secrets.get(\n",
    "#             'databrickScope', \n",
    "#             'storageAccountKey'\n",
    "#         )\n",
    "#     }\n",
    "# )\n",
    "\n",
    "# dbutils.fs.mount(\n",
    "#     source='wasbs://gold@medalionsavan.blob.core.windows.net',\n",
    "#     mount_point='/mnt/gold',\n",
    "#     extra_configs={\n",
    "#         'fs.azure.account.key.medalionsavan.blob.core.windows.net': dbutils.secrets.get(\n",
    "#             'databrickScope', \n",
    "#             'storageAccountKey'\n",
    "#         )\n",
    "#     }\n",
    "# )\n"
   ]
  },
  {
   "cell_type": "code",
   "execution_count": 0,
   "metadata": {
    "application/vnd.databricks.v1+cell": {
     "cellMetadata": {
      "byteLimit": 2048000,
      "rowLimit": 10000
     },
     "inputWidgets": {},
     "nuid": "bf1c006b-a2ec-4b04-b49c-2a9cdfe4184a",
     "showTitle": false,
     "title": ""
    }
   },
   "outputs": [
    {
     "data": {
      "text/plain": [
       "[FileInfo(path='dbfs:/mnt/bronze/2024-09-19/', name='2024-09-19/', size=0, modificationTime=0)]"
      ]
     },
     "execution_count": 20,
     "metadata": {},
     "output_type": "execute_result"
    }
   ],
   "source": [
    "dbutils.fs.ls('/mnt/bronze')"
   ]
  },
  {
   "cell_type": "code",
   "execution_count": 0,
   "metadata": {
    "application/vnd.databricks.v1+cell": {
     "cellMetadata": {
      "byteLimit": 2048000,
      "rowLimit": 10000
     },
     "inputWidgets": {},
     "nuid": "fb6a8121-9615-445f-baee-94a2da913afc",
     "showTitle": false,
     "title": ""
    }
   },
   "outputs": [
    {
     "data": {
      "text/plain": [
       "[]"
      ]
     },
     "execution_count": 21,
     "metadata": {},
     "output_type": "execute_result"
    }
   ],
   "source": [
    "dbutils.fs.ls('/mnt/gold')\n"
   ]
  },
  {
   "cell_type": "code",
   "execution_count": 0,
   "metadata": {
    "application/vnd.databricks.v1+cell": {
     "cellMetadata": {
      "byteLimit": 2048000,
      "rowLimit": 10000
     },
     "inputWidgets": {},
     "nuid": "54702097-fac1-4a35-a47b-148047002a9c",
     "showTitle": false,
     "title": ""
    }
   },
   "outputs": [
    {
     "data": {
      "text/plain": [
       "[]"
      ]
     },
     "execution_count": 22,
     "metadata": {},
     "output_type": "execute_result"
    }
   ],
   "source": [
    "dbutils.fs.ls('/mnt/silver')\n"
   ]
  },
  {
   "cell_type": "code",
   "execution_count": 0,
   "metadata": {
    "application/vnd.databricks.v1+cell": {
     "cellMetadata": {},
     "inputWidgets": {},
     "nuid": "f85acf34-026d-41b5-a07b-b6df664433be",
     "showTitle": false,
     "title": ""
    }
   },
   "outputs": [],
   "source": [
    "fileName = dbutils.widgets.get('fileName')\n",
    "tableSchema = dbutils.widgets.get('table_schema')\n",
    "tableName = dbutils.widgets.get('table_name')\n",
    "\n",
    "#create database if it doesn't exist\n",
    "spark.sql(f'create database if not exists {tableSchema}')\n",
    "\n",
    "spark.sql(\"\"\"\n",
    "        create table if not exists \"\"\"+ tableSchema+\"\"\".\"\"\"+tableName+ \"\"\"\n",
    "        USING PARQUET LOCATION '/mnt/bronze/\"\"\"+fileName+\"\"\"/\"\"\"+ tableSchema+\"\"\".\"\"\"+tableName+ \"\"\".parquet'\n",
    "        \n",
    "        \"\"\")"
   ]
  }
 ],
 "metadata": {
  "application/vnd.databricks.v1+notebook": {
   "dashboards": [],
   "environmentMetadata": {
    "base_environment": "",
    "client": "1"
   },
   "language": "python",
   "notebookMetadata": {
    "pythonIndentUnit": 4
   },
   "notebookName": "BaseNotebook",
   "widgets": {}
  },
  "language_info": {
   "name": "python"
  }
 },
 "nbformat": 4,
 "nbformat_minor": 0
}
